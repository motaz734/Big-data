{
 "cells": [
  {
   "cell_type": "code",
   "execution_count": 12,
   "metadata": {
    "pycharm": {
     "name": "#%%\n"
    }
   },
   "outputs": [],
   "source": [
    "# import matplotlib\n",
    "# matplotlib.use('Agg')\n",
    "import pandas as pd\n",
    "from textblob import TextBlob\n",
    "# import matplotlib.pyplot as plt"
   ]
  },
  {
   "cell_type": "code",
   "execution_count": 13,
   "metadata": {
    "pycharm": {
     "name": "#%%\n"
    }
   },
   "outputs": [],
   "source": [
    "df = pd.read_csv(\"tweets.csv\")"
   ]
  },
  {
   "cell_type": "code",
   "execution_count": 14,
   "metadata": {
    "pycharm": {
     "name": "#%%\n"
    }
   },
   "outputs": [],
   "source": [
    "df_tweets = df['tweet']\n",
    "df_tweets.dropna(how='all', inplace=True)\n",
    "polarity=0\n"
   ]
  },
  {
   "cell_type": "code",
   "execution_count": 15,
   "metadata": {
    "pycharm": {
     "name": "#%%\n"
    }
   },
   "outputs": [
    {
     "data": {
      "text/plain": "                        id      conversation_id  \\\n0      1515345123105980422  1515293448685113351   \n1      1515345108421554184  1515345108421554184   \n2      1515345102662942720  1515345102662942720   \n3      1515345071922728962  1515339060524498945   \n4      1515345067514335239  1515345067514335239   \n...                    ...                  ...   \n22401  1519728996782587905  1518321578357972992   \n22402  1519728978176663558  1519728945867993088   \n22403  1519728967095365632  1519728945867993088   \n22404  1519728950682996737  1519728945867993088   \n22405  1519728932588769280  1519728932588769280   \n\n                                    created_at        date      time  \\\n0      2022-04-16 17:03:25 Egypt Standard Time  2022-04-16  17:03:25   \n1      2022-04-16 17:03:22 Egypt Standard Time  2022-04-16  17:03:22   \n2      2022-04-16 17:03:20 Egypt Standard Time  2022-04-16  17:03:20   \n3      2022-04-16 17:03:13 Egypt Standard Time  2022-04-16  17:03:13   \n4      2022-04-16 17:03:12 Egypt Standard Time  2022-04-16  17:03:12   \n...                                        ...         ...       ...   \n22401  2022-04-28 19:23:22 Egypt Standard Time  2022-04-28  19:23:22   \n22402  2022-04-28 19:23:18 Egypt Standard Time  2022-04-28  19:23:18   \n22403  2022-04-28 19:23:15 Egypt Standard Time  2022-04-28  19:23:15   \n22404  2022-04-28 19:23:11 Egypt Standard Time  2022-04-28  19:23:11   \n22405  2022-04-28 19:23:07 Egypt Standard Time  2022-04-28  19:23:07   \n\n       timezone              user_id         username                name  \\\n0           200           4863154803      shajhanxp35       Shajhan Ahmed   \n1           200            344657887        tha_given          🌻Keneilwe👽   \n2           200   705499454955065344  sneakers_shopww  お洒落でかわいい海外のスニーカー達☻   \n3           200  1191805176635645956        1cyrusken      BlackGem_Cyrus   \n4           200  1248407685680099332     noseasputito          Peter Hurt   \n...         ...                  ...              ...                 ...   \n22401       200             15456626     lissaknudsen         lissa 🌻🐝🍃🇺🇦   \n22402       200  1001654384743387137      fozzydiablo               Fudzy   \n22403       200  1001654384743387137      fozzydiablo               Fudzy   \n22404       200  1001654384743387137      fozzydiablo               Fudzy   \n22405       200            989734322          leajr20                L.A.   \n\n      place  ... source user_rt_id user_rt retweet_id  \\\n0       NaN  ...    NaN        NaN     NaN        NaN   \n1       NaN  ...    NaN        NaN     NaN        NaN   \n2       NaN  ...    NaN        NaN     NaN        NaN   \n3       NaN  ...    NaN        NaN     NaN        NaN   \n4       NaN  ...    NaN        NaN     NaN        NaN   \n...     ...  ...    ...        ...     ...        ...   \n22401   NaN  ...    NaN        NaN     NaN        NaN   \n22402   NaN  ...    NaN        NaN     NaN        NaN   \n22403   NaN  ...    NaN        NaN     NaN        NaN   \n22404   NaN  ...    NaN        NaN     NaN        NaN   \n22405   NaN  ...    NaN        NaN     NaN        NaN   \n\n                                                reply_to  retweet_date  \\\n0      [{'screen_name': 'hyperwalk', 'name': 'Hyper W...           NaN   \n1                                                     []           NaN   \n2                                                     []           NaN   \n3      [{'screen_name': 'sneakerheadsoff', 'name': 'S...           NaN   \n4                                                     []           NaN   \n...                                                  ...           ...   \n22401  [{'screen_name': 'andreawaner', 'name': 'Andre...           NaN   \n22402                                                 []           NaN   \n22403                                                 []           NaN   \n22404                                                 []           NaN   \n22405                                                 []           NaN   \n\n       translate  trans_src trans_dest     score  \n0            NaN        NaN        NaN -0.133333  \n1            NaN        NaN        NaN  0.000000  \n2            NaN        NaN        NaN  0.000000  \n3            NaN        NaN        NaN  0.000000  \n4            NaN        NaN        NaN -0.350000  \n...          ...        ...        ...       ...  \n22401        NaN        NaN        NaN  0.250000  \n22402        NaN        NaN        NaN  0.290000  \n22403        NaN        NaN        NaN  0.200000  \n22404        NaN        NaN        NaN  0.136364  \n22405        NaN        NaN        NaN  0.100000  \n\n[22406 rows x 37 columns]",
      "text/html": "<div>\n<style scoped>\n    .dataframe tbody tr th:only-of-type {\n        vertical-align: middle;\n    }\n\n    .dataframe tbody tr th {\n        vertical-align: top;\n    }\n\n    .dataframe thead th {\n        text-align: right;\n    }\n</style>\n<table border=\"1\" class=\"dataframe\">\n  <thead>\n    <tr style=\"text-align: right;\">\n      <th></th>\n      <th>id</th>\n      <th>conversation_id</th>\n      <th>created_at</th>\n      <th>date</th>\n      <th>time</th>\n      <th>timezone</th>\n      <th>user_id</th>\n      <th>username</th>\n      <th>name</th>\n      <th>place</th>\n      <th>...</th>\n      <th>source</th>\n      <th>user_rt_id</th>\n      <th>user_rt</th>\n      <th>retweet_id</th>\n      <th>reply_to</th>\n      <th>retweet_date</th>\n      <th>translate</th>\n      <th>trans_src</th>\n      <th>trans_dest</th>\n      <th>score</th>\n    </tr>\n  </thead>\n  <tbody>\n    <tr>\n      <th>0</th>\n      <td>1515345123105980422</td>\n      <td>1515293448685113351</td>\n      <td>2022-04-16 17:03:25 Egypt Standard Time</td>\n      <td>2022-04-16</td>\n      <td>17:03:25</td>\n      <td>200</td>\n      <td>4863154803</td>\n      <td>shajhanxp35</td>\n      <td>Shajhan Ahmed</td>\n      <td>NaN</td>\n      <td>...</td>\n      <td>NaN</td>\n      <td>NaN</td>\n      <td>NaN</td>\n      <td>NaN</td>\n      <td>[{'screen_name': 'hyperwalk', 'name': 'Hyper W...</td>\n      <td>NaN</td>\n      <td>NaN</td>\n      <td>NaN</td>\n      <td>NaN</td>\n      <td>-0.133333</td>\n    </tr>\n    <tr>\n      <th>1</th>\n      <td>1515345108421554184</td>\n      <td>1515345108421554184</td>\n      <td>2022-04-16 17:03:22 Egypt Standard Time</td>\n      <td>2022-04-16</td>\n      <td>17:03:22</td>\n      <td>200</td>\n      <td>344657887</td>\n      <td>tha_given</td>\n      <td>🌻Keneilwe👽</td>\n      <td>NaN</td>\n      <td>...</td>\n      <td>NaN</td>\n      <td>NaN</td>\n      <td>NaN</td>\n      <td>NaN</td>\n      <td>[]</td>\n      <td>NaN</td>\n      <td>NaN</td>\n      <td>NaN</td>\n      <td>NaN</td>\n      <td>0.000000</td>\n    </tr>\n    <tr>\n      <th>2</th>\n      <td>1515345102662942720</td>\n      <td>1515345102662942720</td>\n      <td>2022-04-16 17:03:20 Egypt Standard Time</td>\n      <td>2022-04-16</td>\n      <td>17:03:20</td>\n      <td>200</td>\n      <td>705499454955065344</td>\n      <td>sneakers_shopww</td>\n      <td>お洒落でかわいい海外のスニーカー達☻</td>\n      <td>NaN</td>\n      <td>...</td>\n      <td>NaN</td>\n      <td>NaN</td>\n      <td>NaN</td>\n      <td>NaN</td>\n      <td>[]</td>\n      <td>NaN</td>\n      <td>NaN</td>\n      <td>NaN</td>\n      <td>NaN</td>\n      <td>0.000000</td>\n    </tr>\n    <tr>\n      <th>3</th>\n      <td>1515345071922728962</td>\n      <td>1515339060524498945</td>\n      <td>2022-04-16 17:03:13 Egypt Standard Time</td>\n      <td>2022-04-16</td>\n      <td>17:03:13</td>\n      <td>200</td>\n      <td>1191805176635645956</td>\n      <td>1cyrusken</td>\n      <td>BlackGem_Cyrus</td>\n      <td>NaN</td>\n      <td>...</td>\n      <td>NaN</td>\n      <td>NaN</td>\n      <td>NaN</td>\n      <td>NaN</td>\n      <td>[{'screen_name': 'sneakerheadsoff', 'name': 'S...</td>\n      <td>NaN</td>\n      <td>NaN</td>\n      <td>NaN</td>\n      <td>NaN</td>\n      <td>0.000000</td>\n    </tr>\n    <tr>\n      <th>4</th>\n      <td>1515345067514335239</td>\n      <td>1515345067514335239</td>\n      <td>2022-04-16 17:03:12 Egypt Standard Time</td>\n      <td>2022-04-16</td>\n      <td>17:03:12</td>\n      <td>200</td>\n      <td>1248407685680099332</td>\n      <td>noseasputito</td>\n      <td>Peter Hurt</td>\n      <td>NaN</td>\n      <td>...</td>\n      <td>NaN</td>\n      <td>NaN</td>\n      <td>NaN</td>\n      <td>NaN</td>\n      <td>[]</td>\n      <td>NaN</td>\n      <td>NaN</td>\n      <td>NaN</td>\n      <td>NaN</td>\n      <td>-0.350000</td>\n    </tr>\n    <tr>\n      <th>...</th>\n      <td>...</td>\n      <td>...</td>\n      <td>...</td>\n      <td>...</td>\n      <td>...</td>\n      <td>...</td>\n      <td>...</td>\n      <td>...</td>\n      <td>...</td>\n      <td>...</td>\n      <td>...</td>\n      <td>...</td>\n      <td>...</td>\n      <td>...</td>\n      <td>...</td>\n      <td>...</td>\n      <td>...</td>\n      <td>...</td>\n      <td>...</td>\n      <td>...</td>\n      <td>...</td>\n    </tr>\n    <tr>\n      <th>22401</th>\n      <td>1519728996782587905</td>\n      <td>1518321578357972992</td>\n      <td>2022-04-28 19:23:22 Egypt Standard Time</td>\n      <td>2022-04-28</td>\n      <td>19:23:22</td>\n      <td>200</td>\n      <td>15456626</td>\n      <td>lissaknudsen</td>\n      <td>lissa 🌻🐝🍃🇺🇦</td>\n      <td>NaN</td>\n      <td>...</td>\n      <td>NaN</td>\n      <td>NaN</td>\n      <td>NaN</td>\n      <td>NaN</td>\n      <td>[{'screen_name': 'andreawaner', 'name': 'Andre...</td>\n      <td>NaN</td>\n      <td>NaN</td>\n      <td>NaN</td>\n      <td>NaN</td>\n      <td>0.250000</td>\n    </tr>\n    <tr>\n      <th>22402</th>\n      <td>1519728978176663558</td>\n      <td>1519728945867993088</td>\n      <td>2022-04-28 19:23:18 Egypt Standard Time</td>\n      <td>2022-04-28</td>\n      <td>19:23:18</td>\n      <td>200</td>\n      <td>1001654384743387137</td>\n      <td>fozzydiablo</td>\n      <td>Fudzy</td>\n      <td>NaN</td>\n      <td>...</td>\n      <td>NaN</td>\n      <td>NaN</td>\n      <td>NaN</td>\n      <td>NaN</td>\n      <td>[]</td>\n      <td>NaN</td>\n      <td>NaN</td>\n      <td>NaN</td>\n      <td>NaN</td>\n      <td>0.290000</td>\n    </tr>\n    <tr>\n      <th>22403</th>\n      <td>1519728967095365632</td>\n      <td>1519728945867993088</td>\n      <td>2022-04-28 19:23:15 Egypt Standard Time</td>\n      <td>2022-04-28</td>\n      <td>19:23:15</td>\n      <td>200</td>\n      <td>1001654384743387137</td>\n      <td>fozzydiablo</td>\n      <td>Fudzy</td>\n      <td>NaN</td>\n      <td>...</td>\n      <td>NaN</td>\n      <td>NaN</td>\n      <td>NaN</td>\n      <td>NaN</td>\n      <td>[]</td>\n      <td>NaN</td>\n      <td>NaN</td>\n      <td>NaN</td>\n      <td>NaN</td>\n      <td>0.200000</td>\n    </tr>\n    <tr>\n      <th>22404</th>\n      <td>1519728950682996737</td>\n      <td>1519728945867993088</td>\n      <td>2022-04-28 19:23:11 Egypt Standard Time</td>\n      <td>2022-04-28</td>\n      <td>19:23:11</td>\n      <td>200</td>\n      <td>1001654384743387137</td>\n      <td>fozzydiablo</td>\n      <td>Fudzy</td>\n      <td>NaN</td>\n      <td>...</td>\n      <td>NaN</td>\n      <td>NaN</td>\n      <td>NaN</td>\n      <td>NaN</td>\n      <td>[]</td>\n      <td>NaN</td>\n      <td>NaN</td>\n      <td>NaN</td>\n      <td>NaN</td>\n      <td>0.136364</td>\n    </tr>\n    <tr>\n      <th>22405</th>\n      <td>1519728932588769280</td>\n      <td>1519728932588769280</td>\n      <td>2022-04-28 19:23:07 Egypt Standard Time</td>\n      <td>2022-04-28</td>\n      <td>19:23:07</td>\n      <td>200</td>\n      <td>989734322</td>\n      <td>leajr20</td>\n      <td>L.A.</td>\n      <td>NaN</td>\n      <td>...</td>\n      <td>NaN</td>\n      <td>NaN</td>\n      <td>NaN</td>\n      <td>NaN</td>\n      <td>[]</td>\n      <td>NaN</td>\n      <td>NaN</td>\n      <td>NaN</td>\n      <td>NaN</td>\n      <td>0.100000</td>\n    </tr>\n  </tbody>\n</table>\n<p>22406 rows × 37 columns</p>\n</div>"
     },
     "execution_count": 15,
     "metadata": {},
     "output_type": "execute_result"
    }
   ],
   "source": [
    "import re\n",
    "import emoji\n",
    "\n",
    "count_pos = 0\n",
    "count_neg = 0\n",
    "tweet_polarity = []\n",
    "for tweet in df_tweets:\n",
    "    tweet = re.sub(\"@[A-Za-z0-9]+\",\"\",tweet) #Remove @ sign\n",
    "    tweet = re.sub(r\"(?:\\@|http?\\://|https?\\://|www)\\S+\", \"\", tweet) #Remove http links\n",
    "    tweet = \" \".join(tweet.split())\n",
    "    tweet = ''.join(c for c in tweet if c not in emoji.UNICODE_EMOJI) #Remove Emojis\n",
    "    tweet = tweet.replace(\"#\", \"\").replace(\"_\", \" \") #Remove hashtag sign but keep the text\n",
    "    analysis = TextBlob(tweet)\n",
    "    tweet_polarity.append(analysis.sentiment.polarity)\n",
    "    polarity += analysis.sentiment.polarity\n",
    "    if analysis.sentiment.polarity <0:\n",
    "        count_neg+=1\n",
    "    else:\n",
    "        count_pos+=1\n",
    "\n",
    "df['score'] = tweet_polarity\n",
    "# polarity\n",
    "df"
   ]
  },
  {
   "cell_type": "code",
   "execution_count": 16,
   "metadata": {
    "pycharm": {
     "name": "#%%\n"
    }
   },
   "outputs": [
    {
     "data": {
      "text/plain": "<AxesSubplot:ylabel='None'>"
     },
     "execution_count": 16,
     "metadata": {},
     "output_type": "execute_result"
    },
    {
     "data": {
      "text/plain": "<Figure size 432x288 with 1 Axes>",
      "image/png": "[encoded data removed]"
     },
     "metadata": {},
     "output_type": "display_data"
    }
   ],
   "source": [
    "neg_pos_series = pd.Series([count_neg, count_pos], index=['Negative', 'Positive'])\n",
    "neg_pos_series.plot.pie(autopct='%1.1f%%', shadow=True, y='Sentiment')"
   ]
  }
 ],
 "metadata": {
  "interpreter": {
   "hash": "4aed684c13c0bc213320c8d2983f75dc5dc464931a21d0280af262da79bcaa33"
  },
  "kernelspec": {
   "display_name": "Python 3.9.1 64-bit",
   "language": "python",
   "name": "python3"
  },
  "language_info": {
   "codemirror_mode": {
    "name": "ipython",
    "version": 3
   },
   "file_extension": ".py",
   "mimetype": "text/x-python",
   "name": "python",
   "nbconvert_exporter": "python",
   "pygments_lexer": "ipython3",
   "version": "3.9.1"
  },
  "orig_nbformat": 4
 },
 "nbformat": 4,
 "nbformat_minor": 2
}