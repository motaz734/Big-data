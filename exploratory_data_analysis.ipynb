{
 "cells": [
  {
   "cell_type": "code",
   "execution_count": 15,
   "metadata": {
    "collapsed": true,
    "pycharm": {
     "name": "#%%\n"
    }
   },
   "outputs": [],
   "source": [
    "import pandas as pd\n",
    "import matplotlib.pyplot as plt\n",
    "df = pd.read_csv(\"tweets.csv\")"
   ]
  },
  {
   "cell_type": "code",
   "execution_count": 16,
   "outputs": [
    {
     "name": "stdout",
     "output_type": "stream",
     "text": [
      "<class 'pandas.core.frame.DataFrame'>\n",
      "RangeIndex: 22406 entries, 0 to 22405\n",
      "Data columns (total 36 columns):\n",
      " #   Column           Non-Null Count  Dtype  \n",
      "---  ------           --------------  -----  \n",
      " 0   id               22406 non-null  int64  \n",
      " 1   conversation_id  22406 non-null  int64  \n",
      " 2   created_at       22406 non-null  object \n",
      " 3   date             22406 non-null  object \n",
      " 4   time             22406 non-null  object \n",
      " 5   timezone         22406 non-null  int64  \n",
      " 6   user_id          22406 non-null  int64  \n",
      " 7   username         22406 non-null  object \n",
      " 8   name             22406 non-null  object \n",
      " 9   place            48 non-null     object \n",
      " 10  tweet            22406 non-null  object \n",
      " 11  language         22406 non-null  object \n",
      " 12  mentions         22406 non-null  object \n",
      " 13  urls             22406 non-null  object \n",
      " 14  photos           22406 non-null  object \n",
      " 15  replies_count    22406 non-null  int64  \n",
      " 16  retweets_count   22406 non-null  int64  \n",
      " 17  likes_count      22406 non-null  int64  \n",
      " 18  hashtags         22406 non-null  object \n",
      " 19  cashtags         22406 non-null  object \n",
      " 20  link             22406 non-null  object \n",
      " 21  retweet          22406 non-null  bool   \n",
      " 22  quote_url        1306 non-null   object \n",
      " 23  video            22406 non-null  int64  \n",
      " 24  thumbnail        5729 non-null   object \n",
      " 25  near             0 non-null      float64\n",
      " 26  geo              0 non-null      float64\n",
      " 27  source           0 non-null      float64\n",
      " 28  user_rt_id       0 non-null      float64\n",
      " 29  user_rt          0 non-null      float64\n",
      " 30  retweet_id       0 non-null      float64\n",
      " 31  reply_to         22406 non-null  object \n",
      " 32  retweet_date     0 non-null      float64\n",
      " 33  translate        0 non-null      float64\n",
      " 34  trans_src        0 non-null      float64\n",
      " 35  trans_dest       0 non-null      float64\n",
      "dtypes: bool(1), float64(10), int64(8), object(17)\n",
      "memory usage: 6.0+ MB\n"
     ]
    }
   ],
   "source": [
    "df.info()"
   ],
   "metadata": {
    "collapsed": false,
    "pycharm": {
     "name": "#%%\n"
    }
   }
  },
  {
   "cell_type": "code",
   "execution_count": 8,
   "outputs": [
    {
     "data": {
      "text/plain": "                 id  conversation_id  timezone       user_id  replies_count  \\\ncount  2.240600e+04     2.240600e+04   22406.0  2.240600e+04   22406.000000   \nmean   1.515318e+18     1.514667e+18     200.0  7.428987e+17       0.406543   \nstd    7.970166e+14     1.377983e+16       0.0  6.377041e+17       2.392671   \nmin    1.513547e+18     7.430350e+17     200.0  1.157400e+04       0.000000   \n25%    1.515180e+18     1.515032e+18     200.0  9.488115e+08       0.000000   \n50%    1.515288e+18     1.515226e+18     200.0  9.718604e+17       0.000000   \n75%    1.515324e+18     1.515310e+18     200.0  1.357391e+18       0.000000   \nmax    1.519749e+18     1.519749e+18     200.0  1.518955e+18     124.000000   \n\n       retweets_count   likes_count         video  near  geo  source  \\\ncount    22406.000000  22406.000000  22406.000000   0.0  0.0     0.0   \nmean         0.625859      3.784924      0.255690   NaN  NaN     NaN   \nstd         22.953984     52.986285      0.436258   NaN  NaN     NaN   \nmin          0.000000      0.000000      0.000000   NaN  NaN     NaN   \n25%          0.000000      0.000000      0.000000   NaN  NaN     NaN   \n50%          0.000000      0.000000      0.000000   NaN  NaN     NaN   \n75%          0.000000      1.000000      1.000000   NaN  NaN     NaN   \nmax       3171.000000   5012.000000      1.000000   NaN  NaN     NaN   \n\n       user_rt_id  user_rt  retweet_id  retweet_date  translate  trans_src  \\\ncount         0.0      0.0         0.0           0.0        0.0        0.0   \nmean          NaN      NaN         NaN           NaN        NaN        NaN   \nstd           NaN      NaN         NaN           NaN        NaN        NaN   \nmin           NaN      NaN         NaN           NaN        NaN        NaN   \n25%           NaN      NaN         NaN           NaN        NaN        NaN   \n50%           NaN      NaN         NaN           NaN        NaN        NaN   \n75%           NaN      NaN         NaN           NaN        NaN        NaN   \nmax           NaN      NaN         NaN           NaN        NaN        NaN   \n\n       trans_dest  \ncount         0.0  \nmean          NaN  \nstd           NaN  \nmin           NaN  \n25%           NaN  \n50%           NaN  \n75%           NaN  \nmax           NaN  ",
      "text/html": "<div>\n<style scoped>\n    .dataframe tbody tr th:only-of-type {\n        vertical-align: middle;\n    }\n\n    .dataframe tbody tr th {\n        vertical-align: top;\n    }\n\n    .dataframe thead th {\n        text-align: right;\n    }\n</style>\n<table border=\"1\" class=\"dataframe\">\n  <thead>\n    <tr style=\"text-align: right;\">\n      <th></th>\n      <th>id</th>\n      <th>conversation_id</th>\n      <th>timezone</th>\n      <th>user_id</th>\n      <th>replies_count</th>\n      <th>retweets_count</th>\n      <th>likes_count</th>\n      <th>video</th>\n      <th>near</th>\n      <th>geo</th>\n      <th>source</th>\n      <th>user_rt_id</th>\n      <th>user_rt</th>\n      <th>retweet_id</th>\n      <th>retweet_date</th>\n      <th>translate</th>\n      <th>trans_src</th>\n      <th>trans_dest</th>\n    </tr>\n  </thead>\n  <tbody>\n    <tr>\n      <th>count</th>\n      <td>2.240600e+04</td>\n      <td>2.240600e+04</td>\n      <td>22406.0</td>\n      <td>2.240600e+04</td>\n      <td>22406.000000</td>\n      <td>22406.000000</td>\n      <td>22406.000000</td>\n      <td>22406.000000</td>\n      <td>0.0</td>\n      <td>0.0</td>\n      <td>0.0</td>\n      <td>0.0</td>\n      <td>0.0</td>\n      <td>0.0</td>\n      <td>0.0</td>\n      <td>0.0</td>\n      <td>0.0</td>\n      <td>0.0</td>\n    </tr>\n    <tr>\n      <th>mean</th>\n      <td>1.515318e+18</td>\n      <td>1.514667e+18</td>\n      <td>200.0</td>\n      <td>7.428987e+17</td>\n      <td>0.406543</td>\n      <td>0.625859</td>\n      <td>3.784924</td>\n      <td>0.255690</td>\n      <td>NaN</td>\n      <td>NaN</td>\n      <td>NaN</td>\n      <td>NaN</td>\n      <td>NaN</td>\n      <td>NaN</td>\n      <td>NaN</td>\n      <td>NaN</td>\n      <td>NaN</td>\n      <td>NaN</td>\n    </tr>\n    <tr>\n      <th>std</th>\n      <td>7.970166e+14</td>\n      <td>1.377983e+16</td>\n      <td>0.0</td>\n      <td>6.377041e+17</td>\n      <td>2.392671</td>\n      <td>22.953984</td>\n      <td>52.986285</td>\n      <td>0.436258</td>\n      <td>NaN</td>\n      <td>NaN</td>\n      <td>NaN</td>\n      <td>NaN</td>\n      <td>NaN</td>\n      <td>NaN</td>\n      <td>NaN</td>\n      <td>NaN</td>\n      <td>NaN</td>\n      <td>NaN</td>\n    </tr>\n    <tr>\n      <th>min</th>\n      <td>1.513547e+18</td>\n      <td>7.430350e+17</td>\n      <td>200.0</td>\n      <td>1.157400e+04</td>\n      <td>0.000000</td>\n      <td>0.000000</td>\n      <td>0.000000</td>\n      <td>0.000000</td>\n      <td>NaN</td>\n      <td>NaN</td>\n      <td>NaN</td>\n      <td>NaN</td>\n      <td>NaN</td>\n      <td>NaN</td>\n      <td>NaN</td>\n      <td>NaN</td>\n      <td>NaN</td>\n      <td>NaN</td>\n    </tr>\n    <tr>\n      <th>25%</th>\n      <td>1.515180e+18</td>\n      <td>1.515032e+18</td>\n      <td>200.0</td>\n      <td>9.488115e+08</td>\n      <td>0.000000</td>\n      <td>0.000000</td>\n      <td>0.000000</td>\n      <td>0.000000</td>\n      <td>NaN</td>\n      <td>NaN</td>\n      <td>NaN</td>\n      <td>NaN</td>\n      <td>NaN</td>\n      <td>NaN</td>\n      <td>NaN</td>\n      <td>NaN</td>\n      <td>NaN</td>\n      <td>NaN</td>\n    </tr>\n    <tr>\n      <th>50%</th>\n      <td>1.515288e+18</td>\n      <td>1.515226e+18</td>\n      <td>200.0</td>\n      <td>9.718604e+17</td>\n      <td>0.000000</td>\n      <td>0.000000</td>\n      <td>0.000000</td>\n      <td>0.000000</td>\n      <td>NaN</td>\n      <td>NaN</td>\n      <td>NaN</td>\n      <td>NaN</td>\n      <td>NaN</td>\n      <td>NaN</td>\n      <td>NaN</td>\n      <td>NaN</td>\n      <td>NaN</td>\n      <td>NaN</td>\n    </tr>\n    <tr>\n      <th>75%</th>\n      <td>1.515324e+18</td>\n      <td>1.515310e+18</td>\n      <td>200.0</td>\n      <td>1.357391e+18</td>\n      <td>0.000000</td>\n      <td>0.000000</td>\n      <td>1.000000</td>\n      <td>1.000000</td>\n      <td>NaN</td>\n      <td>NaN</td>\n      <td>NaN</td>\n      <td>NaN</td>\n      <td>NaN</td>\n      <td>NaN</td>\n      <td>NaN</td>\n      <td>NaN</td>\n      <td>NaN</td>\n      <td>NaN</td>\n    </tr>\n    <tr>\n      <th>max</th>\n      <td>1.519749e+18</td>\n      <td>1.519749e+18</td>\n      <td>200.0</td>\n      <td>1.518955e+18</td>\n      <td>124.000000</td>\n      <td>3171.000000</td>\n      <td>5012.000000</td>\n      <td>1.000000</td>\n      <td>NaN</td>\n      <td>NaN</td>\n      <td>NaN</td>\n      <td>NaN</td>\n      <td>NaN</td>\n      <td>NaN</td>\n      <td>NaN</td>\n      <td>NaN</td>\n      <td>NaN</td>\n      <td>NaN</td>\n    </tr>\n  </tbody>\n</table>\n</div>"
     },
     "execution_count": 8,
     "metadata": {},
     "output_type": "execute_result"
    }
   ],
   "source": [
    "df.describe()"
   ],
   "metadata": {
    "collapsed": false,
    "pycharm": {
     "name": "#%%\n"
    }
   }
  },
  {
   "cell_type": "code",
   "execution_count": 13,
   "outputs": [
    {
     "data": {
      "text/plain": "<Figure size 432x288 with 1 Axes>",
      "image/png": "[encoded data removed]"
     },
     "metadata": {
      "needs_background": "light"
     },
     "output_type": "display_data"
    }
   ],
   "source": [
    "y = list(df.likes_count)\n",
    "plt.boxplot(y)\n",
    "plt.show()\n",
    "# df"
   ],
   "metadata": {
    "collapsed": false,
    "pycharm": {
     "name": "#%%\n"
    }
   }
  },
  {
   "cell_type": "code",
   "execution_count": 14,
   "outputs": [
    {
     "data": {
      "text/plain": "                                             id  conversation_id  created_at  \\\nlikes_count replies_count retweets_count                                       \n0           0             0               12600            12600       12600   \n                          1                 140              140         140   \n                          2                  32               32          32   \n                          3                   4                4           4   \n                          4                   3                3           3   \n...                                         ...              ...         ...   \n1620        46            133                 1                1           1   \n1638        55            75                  1                1           1   \n2199        47            130                 1                1           1   \n3048        115           53                  1                1           1   \n5012        18            467                 1                1           1   \n\n                                           date   time  timezone  user_id  \\\nlikes_count replies_count retweets_count                                    \n0           0             0               12600  12600     12600    12600   \n                          1                 140    140       140      140   \n                          2                  32     32        32       32   \n                          3                   4      4         4        4   \n                          4                   3      3         3        3   \n...                                         ...    ...       ...      ...   \n1620        46            133                 1      1         1        1   \n1638        55            75                  1      1         1        1   \n2199        47            130                 1      1         1        1   \n3048        115           53                  1      1         1        1   \n5012        18            467                 1      1         1        1   \n\n                                          username   name  place  ...  geo  \\\nlikes_count replies_count retweets_count                          ...        \n0           0             0                  12600  12600     46  ...    0   \n                          1                    140    140      0  ...    0   \n                          2                     32     32      0  ...    0   \n                          3                      4      4      0  ...    0   \n                          4                      3      3      1  ...    0   \n...                                            ...    ...    ...  ...  ...   \n1620        46            133                    1      1      0  ...    0   \n1638        55            75                     1      1      0  ...    0   \n2199        47            130                    1      1      0  ...    0   \n3048        115           53                     1      1      0  ...    0   \n5012        18            467                    1      1      0  ...    0   \n\n                                          source  user_rt_id  user_rt  \\\nlikes_count replies_count retweets_count                                \n0           0             0                    0           0        0   \n                          1                    0           0        0   \n                          2                    0           0        0   \n                          3                    0           0        0   \n                          4                    0           0        0   \n...                                          ...         ...      ...   \n1620        46            133                  0           0        0   \n1638        55            75                   0           0        0   \n2199        47            130                  0           0        0   \n3048        115           53                   0           0        0   \n5012        18            467                  0           0        0   \n\n                                          retweet_id  reply_to  retweet_date  \\\nlikes_count replies_count retweets_count                                       \n0           0             0                        0     12600             0   \n                          1                        0       140             0   \n                          2                        0        32             0   \n                          3                        0         4             0   \n                          4                        0         3             0   \n...                                              ...       ...           ...   \n1620        46            133                      0         1             0   \n1638        55            75                       0         1             0   \n2199        47            130                      0         1             0   \n3048        115           53                       0         1             0   \n5012        18            467                      0         1             0   \n\n                                          translate  trans_src  trans_dest  \nlikes_count replies_count retweets_count                                    \n0           0             0                       0          0           0  \n                          1                       0          0           0  \n                          2                       0          0           0  \n                          3                       0          0           0  \n                          4                       0          0           0  \n...                                             ...        ...         ...  \n1620        46            133                     0          0           0  \n1638        55            75                      0          0           0  \n2199        47            130                     0          0           0  \n3048        115           53                      0          0           0  \n5012        18            467                     0          0           0  \n\n[919 rows x 33 columns]",
      "text/html": "<div>\n<style scoped>\n    .dataframe tbody tr th:only-of-type {\n        vertical-align: middle;\n    }\n\n    .dataframe tbody tr th {\n        vertical-align: top;\n    }\n\n    .dataframe thead th {\n        text-align: right;\n    }\n</style>\n<table border=\"1\" class=\"dataframe\">\n  <thead>\n    <tr style=\"text-align: right;\">\n      <th></th>\n      <th></th>\n      <th></th>\n      <th>id</th>\n      <th>conversation_id</th>\n      <th>created_at</th>\n      <th>date</th>\n      <th>time</th>\n      <th>timezone</th>\n      <th>user_id</th>\n      <th>username</th>\n      <th>name</th>\n      <th>place</th>\n      <th>...</th>\n      <th>geo</th>\n      <th>source</th>\n      <th>user_rt_id</th>\n      <th>user_rt</th>\n      <th>retweet_id</th>\n      <th>reply_to</th>\n      <th>retweet_date</th>\n      <th>translate</th>\n      <th>trans_src</th>\n      <th>trans_dest</th>\n    </tr>\n    <tr>\n      <th>likes_count</th>\n      <th>replies_count</th>\n      <th>retweets_count</th>\n      <th></th>\n      <th></th>\n      <th></th>\n      <th></th>\n      <th></th>\n      <th></th>\n      <th></th>\n      <th></th>\n      <th></th>\n      <th></th>\n      <th></th>\n      <th></th>\n      <th></th>\n      <th></th>\n      <th></th>\n      <th></th>\n      <th></th>\n      <th></th>\n      <th></th>\n      <th></th>\n      <th></th>\n    </tr>\n  </thead>\n  <tbody>\n    <tr>\n      <th rowspan=\"5\" valign=\"top\">0</th>\n      <th rowspan=\"5\" valign=\"top\">0</th>\n      <th>0</th>\n      <td>12600</td>\n      <td>12600</td>\n      <td>12600</td>\n      <td>12600</td>\n      <td>12600</td>\n      <td>12600</td>\n      <td>12600</td>\n      <td>12600</td>\n      <td>12600</td>\n      <td>46</td>\n      <td>...</td>\n      <td>0</td>\n      <td>0</td>\n      <td>0</td>\n      <td>0</td>\n      <td>0</td>\n      <td>12600</td>\n      <td>0</td>\n      <td>0</td>\n      <td>0</td>\n      <td>0</td>\n    </tr>\n    <tr>\n      <th>1</th>\n      <td>140</td>\n      <td>140</td>\n      <td>140</td>\n      <td>140</td>\n      <td>140</td>\n      <td>140</td>\n      <td>140</td>\n      <td>140</td>\n      <td>140</td>\n      <td>0</td>\n      <td>...</td>\n      <td>0</td>\n      <td>0</td>\n      <td>0</td>\n      <td>0</td>\n      <td>0</td>\n      <td>140</td>\n      <td>0</td>\n      <td>0</td>\n      <td>0</td>\n      <td>0</td>\n    </tr>\n    <tr>\n      <th>2</th>\n      <td>32</td>\n      <td>32</td>\n      <td>32</td>\n      <td>32</td>\n      <td>32</td>\n      <td>32</td>\n      <td>32</td>\n      <td>32</td>\n      <td>32</td>\n      <td>0</td>\n      <td>...</td>\n      <td>0</td>\n      <td>0</td>\n      <td>0</td>\n      <td>0</td>\n      <td>0</td>\n      <td>32</td>\n      <td>0</td>\n      <td>0</td>\n      <td>0</td>\n      <td>0</td>\n    </tr>\n    <tr>\n      <th>3</th>\n      <td>4</td>\n      <td>4</td>\n      <td>4</td>\n      <td>4</td>\n      <td>4</td>\n      <td>4</td>\n      <td>4</td>\n      <td>4</td>\n      <td>4</td>\n      <td>0</td>\n      <td>...</td>\n      <td>0</td>\n      <td>0</td>\n      <td>0</td>\n      <td>0</td>\n      <td>0</td>\n      <td>4</td>\n      <td>0</td>\n      <td>0</td>\n      <td>0</td>\n      <td>0</td>\n    </tr>\n    <tr>\n      <th>4</th>\n      <td>3</td>\n      <td>3</td>\n      <td>3</td>\n      <td>3</td>\n      <td>3</td>\n      <td>3</td>\n      <td>3</td>\n      <td>3</td>\n      <td>3</td>\n      <td>1</td>\n      <td>...</td>\n      <td>0</td>\n      <td>0</td>\n      <td>0</td>\n      <td>0</td>\n      <td>0</td>\n      <td>3</td>\n      <td>0</td>\n      <td>0</td>\n      <td>0</td>\n      <td>0</td>\n    </tr>\n    <tr>\n      <th>...</th>\n      <th>...</th>\n      <th>...</th>\n      <td>...</td>\n      <td>...</td>\n      <td>...</td>\n      <td>...</td>\n      <td>...</td>\n      <td>...</td>\n      <td>...</td>\n      <td>...</td>\n      <td>...</td>\n      <td>...</td>\n      <td>...</td>\n      <td>...</td>\n      <td>...</td>\n      <td>...</td>\n      <td>...</td>\n      <td>...</td>\n      <td>...</td>\n      <td>...</td>\n      <td>...</td>\n      <td>...</td>\n      <td>...</td>\n    </tr>\n    <tr>\n      <th>1620</th>\n      <th>46</th>\n      <th>133</th>\n      <td>1</td>\n      <td>1</td>\n      <td>1</td>\n      <td>1</td>\n      <td>1</td>\n      <td>1</td>\n      <td>1</td>\n      <td>1</td>\n      <td>1</td>\n      <td>0</td>\n      <td>...</td>\n      <td>0</td>\n      <td>0</td>\n      <td>0</td>\n      <td>0</td>\n      <td>0</td>\n      <td>1</td>\n      <td>0</td>\n      <td>0</td>\n      <td>0</td>\n      <td>0</td>\n    </tr>\n    <tr>\n      <th>1638</th>\n      <th>55</th>\n      <th>75</th>\n      <td>1</td>\n      <td>1</td>\n      <td>1</td>\n      <td>1</td>\n      <td>1</td>\n      <td>1</td>\n      <td>1</td>\n      <td>1</td>\n      <td>1</td>\n      <td>0</td>\n      <td>...</td>\n      <td>0</td>\n      <td>0</td>\n      <td>0</td>\n      <td>0</td>\n      <td>0</td>\n      <td>1</td>\n      <td>0</td>\n      <td>0</td>\n      <td>0</td>\n      <td>0</td>\n    </tr>\n    <tr>\n      <th>2199</th>\n      <th>47</th>\n      <th>130</th>\n      <td>1</td>\n      <td>1</td>\n      <td>1</td>\n      <td>1</td>\n      <td>1</td>\n      <td>1</td>\n      <td>1</td>\n      <td>1</td>\n      <td>1</td>\n      <td>0</td>\n      <td>...</td>\n      <td>0</td>\n      <td>0</td>\n      <td>0</td>\n      <td>0</td>\n      <td>0</td>\n      <td>1</td>\n      <td>0</td>\n      <td>0</td>\n      <td>0</td>\n      <td>0</td>\n    </tr>\n    <tr>\n      <th>3048</th>\n      <th>115</th>\n      <th>53</th>\n      <td>1</td>\n      <td>1</td>\n      <td>1</td>\n      <td>1</td>\n      <td>1</td>\n      <td>1</td>\n      <td>1</td>\n      <td>1</td>\n      <td>1</td>\n      <td>0</td>\n      <td>...</td>\n      <td>0</td>\n      <td>0</td>\n      <td>0</td>\n      <td>0</td>\n      <td>0</td>\n      <td>1</td>\n      <td>0</td>\n      <td>0</td>\n      <td>0</td>\n      <td>0</td>\n    </tr>\n    <tr>\n      <th>5012</th>\n      <th>18</th>\n      <th>467</th>\n      <td>1</td>\n      <td>1</td>\n      <td>1</td>\n      <td>1</td>\n      <td>1</td>\n      <td>1</td>\n      <td>1</td>\n      <td>1</td>\n      <td>1</td>\n      <td>0</td>\n      <td>...</td>\n      <td>0</td>\n      <td>0</td>\n      <td>0</td>\n      <td>0</td>\n      <td>0</td>\n      <td>1</td>\n      <td>0</td>\n      <td>0</td>\n      <td>0</td>\n      <td>0</td>\n    </tr>\n  </tbody>\n</table>\n<p>919 rows × 33 columns</p>\n</div>"
     },
     "execution_count": 14,
     "metadata": {},
     "output_type": "execute_result"
    }
   ],
   "source": [
    "df.groupby(['likes_count','replies_count','retweets_count']).count()"
   ],
   "metadata": {
    "collapsed": false,
    "pycharm": {
     "name": "#%%\n"
    }
   }
  }
 ],
 "metadata": {
  "kernelspec": {
   "display_name": "Python 3",
   "language": "python",
   "name": "python3"
  },
  "language_info": {
   "codemirror_mode": {
    "name": "ipython",
    "version": 2
   },
   "file_extension": ".py",
   "mimetype": "text/x-python",
   "name": "python",
   "nbconvert_exporter": "python",
   "pygments_lexer": "ipython2",
   "version": "2.7.6"
  }
 },
 "nbformat": 4,
 "nbformat_minor": 0
}